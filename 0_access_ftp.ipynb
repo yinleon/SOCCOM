{
 "cells": [
  {
   "cell_type": "markdown",
   "metadata": {},
   "source": [
    "# Accessing SOCCOM's Biogeochemical ARGO Floats\n",
    "This tutorial highlights how to connect to an anaymous FTP, and automate some preprocessing using Pandas."
   ]
  },
  {
   "cell_type": "code",
   "execution_count": 1,
   "metadata": {
    "collapsed": true
   },
   "outputs": [],
   "source": [
    "from ftplib import FTP"
   ]
  },
  {
   "cell_type": "code",
   "execution_count": 2,
   "metadata": {
    "collapsed": true
   },
   "outputs": [],
   "source": [
    "host = 'ftp.mbari.org'\n",
    "data_in_dir = 'pub/SOCCOM/FloatVizData/QC/'\n",
    "encoding = 'iso-8859-1'"
   ]
  },
  {
   "cell_type": "markdown",
   "metadata": {},
   "source": [
    "Make a connection to the FTP as an anonymous user."
   ]
  },
  {
   "cell_type": "code",
   "execution_count": 3,
   "metadata": {
    "collapsed": false
   },
   "outputs": [],
   "source": [
    "ftp_cnx = FTP(host, 'anonymous')"
   ]
  },
  {
   "cell_type": "markdown",
   "metadata": {},
   "source": [
    "Change the ftp directory to where the files live."
   ]
  },
  {
   "cell_type": "code",
   "execution_count": 4,
   "metadata": {
    "collapsed": false
   },
   "outputs": [
    {
     "data": {
      "text/plain": [
       "'250 Directory successfully changed.'"
      ]
     },
     "execution_count": 4,
     "metadata": {},
     "output_type": "execute_result"
    }
   ],
   "source": [
    "ftp_cnx.cwd(data_in_dir)"
   ]
  },
  {
   "cell_type": "markdown",
   "metadata": {},
   "source": [
    "Before we read any files from the ftp to our local machine, let's get a list of targets."
   ]
  },
  {
   "cell_type": "code",
   "execution_count": 5,
   "metadata": {
    "collapsed": false
   },
   "outputs": [
    {
     "data": {
      "text/plain": [
       "['0037SoOcnQC.TXT',\n",
       " '0068RossSeaQC.TXT',\n",
       " '0069BermudaQC.TXT',\n",
       " '0276NoAtlanticQC.TXT',\n",
       " '0412HawaiiQC.TXT']"
      ]
     },
     "execution_count": 5,
     "metadata": {},
     "output_type": "execute_result"
    }
   ],
   "source": [
    "ftp_cnx.nlst()[:5]"
   ]
  },
  {
   "cell_type": "markdown",
   "metadata": {},
   "source": [
    "close the connection to the FTP."
   ]
  },
  {
   "cell_type": "code",
   "execution_count": 10,
   "metadata": {
    "collapsed": true
   },
   "outputs": [],
   "source": [
    "ftp_cnx.close()"
   ]
  },
  {
   "cell_type": "markdown",
   "metadata": {},
   "source": [
    "In the interest of downloading files programmatically, let's wrap these procedures into a method..."
   ]
  },
  {
   "cell_type": "code",
   "execution_count": 135,
   "metadata": {
    "collapsed": false
   },
   "outputs": [],
   "source": [
    "def list_records(host, directory, full_path=False):\n",
    "    '''\n",
    "    Similar to Linux directory list (ls).\n",
    "    Connects to FTP and Returns list of files.\n",
    "    '''\n",
    "    with FTP(host, 'anonymous', timeout=5) as ftp_cnx:\n",
    "        ftp_cnx.cwd(data_in_dir)\n",
    "\n",
    "        files = []\n",
    "\n",
    "        try:\n",
    "            files = ftp_cnx.nlst()\n",
    "        \n",
    "        except(ftplib.error_perm, resp):\n",
    "            if str(resp) == \"550 No files found\":\n",
    "                print(\"No files in this directory\")\n",
    "            else:\n",
    "                raise\n",
    "                \n",
    "    if full_path:\n",
    "        return [os.path.join('ftp://', host, data_in_dir, f) for f in files]\n",
    "    else:\n",
    "        return files"
   ]
  },
  {
   "cell_type": "code",
   "execution_count": 137,
   "metadata": {
    "collapsed": false
   },
   "outputs": [
    {
     "data": {
      "text/plain": [
       "['ftp://ftp.mbari.org/pub/SOCCOM/FloatVizData/QC/0037SoOcnQC.TXT',\n",
       " 'ftp://ftp.mbari.org/pub/SOCCOM/FloatVizData/QC/0068RossSeaQC.TXT',\n",
       " 'ftp://ftp.mbari.org/pub/SOCCOM/FloatVizData/QC/0069BermudaQC.TXT',\n",
       " 'ftp://ftp.mbari.org/pub/SOCCOM/FloatVizData/QC/0276NoAtlanticQC.TXT',\n",
       " 'ftp://ftp.mbari.org/pub/SOCCOM/FloatVizData/QC/0412HawaiiQC.TXT']"
      ]
     },
     "execution_count": 137,
     "metadata": {},
     "output_type": "execute_result"
    }
   ],
   "source": [
    "files = list_records(host, data_in_dir, full_path=True)\n",
    "files[:5]"
   ]
  },
  {
   "cell_type": "markdown",
   "metadata": {},
   "source": [
    "what does the data look like?"
   ]
  },
  {
   "cell_type": "code",
   "execution_count": 22,
   "metadata": {
    "collapsed": false
   },
   "outputs": [],
   "source": [
    "import os\n",
    "import urllib.request as ur"
   ]
  },
  {
   "cell_type": "code",
   "execution_count": 218,
   "metadata": {
    "collapsed": false
   },
   "outputs": [],
   "source": [
    "ftp_url = files[0]"
   ]
  },
  {
   "cell_type": "code",
   "execution_count": 219,
   "metadata": {
    "collapsed": false
   },
   "outputs": [],
   "source": [
    "# request file from FTP\n",
    "req = ur.Request(ftp_url)\n",
    "file = ur.urlopen(req)"
   ]
  },
  {
   "cell_type": "code",
   "execution_count": 221,
   "metadata": {
    "collapsed": false
   },
   "outputs": [],
   "source": [
    "# Read file as string\n",
    "raw_data = file.read().decode(encoding)"
   ]
  },
  {
   "cell_type": "code",
   "execution_count": 227,
   "metadata": {
    "collapsed": false
   },
   "outputs": [
    {
     "name": "stdout",
     "output_type": "stream",
     "text": [
      "//0\r\n",
      "//Oxygen,  1.045\r\n",
      "//Nitrate, 1, 1, 1,0\r\n",
      "//Nitrate, 2, 1, -1, 0\r\n",
      "//Nitrate, 3, 1, -.5, 0\r\n",
      "//Nitrate, 88, 1, 0.8,0\r\n",
      "//Chl,  0.5, 0\r\n",
      "//BB, 1, 0\r\n",
      "Cruise\tStation\tType\tmon/day/yr\thh:mm\tLon [°E]\tLat [°N]\tBot. Depth[m]\tDepth[m]\tQF\tTemperature[°C]\tQF\tSalinity\tQF\tDensity\tQF\tOxygen[µM]\tQF\tOxygenSat[%]\tQF\tNitrate[µM]\tQF\tChlorophyll[µg/l]\tQF\tBackScatter[/m/sr]\tQF\tCDOM[ppb]\tQF\r\n",
      "0037SoOcn\t1\tC\t12/05/2014\t21:51\t11.352\t-39.254\t\t1798.80\t0\t2.7423\t0\t34.7770\t0\t27.731\t0\t210.99\t0\t63.11\t0\t27.70\t0\t0.01\t0\t0.000131\t0\t2.37\t0\r\n",
      "0037SoOcn\t1\tC\t12/05/2014\t21:51\t11.352\t-39.254\t\t1699.70\t0\t2.7685\t0\t34.7540\t0\t27.710\t0\t212.24\t0\t63.52\t0\t28.40\t0\t0.015\t0\t0.000137\t0\t2.38\t0\r\n"
     ]
    }
   ],
   "source": [
    "print(raw_data[:644])"
   ]
  },
  {
   "cell_type": "markdown",
   "metadata": {},
   "source": [
    "What are some thins we realize off the cuff?\n",
    "1. metadata at the top of the file commented out with two forward slashes ('\\\\').\n",
    "2. tab-delimited columns\n",
    "\n",
    "Some questions to consider:\n",
    "- Are the metadata fields uniform across files?\n",
    "- do colum names change?"
   ]
  },
  {
   "cell_type": "code",
   "execution_count": 235,
   "metadata": {
    "collapsed": true
   },
   "outputs": [],
   "source": [
    "# on what index does the metadata end?\n",
    "meta_end = 8"
   ]
  },
  {
   "cell_type": "markdown",
   "metadata": {},
   "source": [
    "Metadata"
   ]
  },
  {
   "cell_type": "code",
   "execution_count": 229,
   "metadata": {
    "collapsed": false
   },
   "outputs": [
    {
     "data": {
      "text/plain": [
       "[['//0'],\n",
       " ['//Oxygen,  1.045'],\n",
       " ['//Nitrate, 1, 1, 1,0'],\n",
       " ['//Nitrate, 2, 1, -1, 0'],\n",
       " ['//Nitrate, 3, 1, -.5, 0'],\n",
       " ['//Nitrate, 88, 1, 0.8,0'],\n",
       " ['//Chl,  0.5, 0'],\n",
       " ['//BB, 1, 0']]"
      ]
     },
     "execution_count": 229,
     "metadata": {},
     "output_type": "execute_result"
    }
   ],
   "source": [
    "data[:meta_end]"
   ]
  },
  {
   "cell_type": "markdown",
   "metadata": {},
   "source": [
    "column headers"
   ]
  },
  {
   "cell_type": "code",
   "execution_count": 230,
   "metadata": {
    "collapsed": false
   },
   "outputs": [
    {
     "data": {
      "text/plain": [
       "['Cruise',\n",
       " 'Station',\n",
       " 'Type',\n",
       " 'mon/day/yr',\n",
       " 'hh:mm',\n",
       " 'Lon [°E]',\n",
       " 'Lat [°N]',\n",
       " 'Bot. Depth[m]',\n",
       " 'Depth[m]',\n",
       " 'QF',\n",
       " 'Temperature[°C]',\n",
       " 'QF',\n",
       " 'Salinity',\n",
       " 'QF',\n",
       " 'Density',\n",
       " 'QF',\n",
       " 'Oxygen[µM]',\n",
       " 'QF',\n",
       " 'OxygenSat[%]',\n",
       " 'QF',\n",
       " 'Nitrate[µM]',\n",
       " 'QF',\n",
       " 'Chlorophyll[µg/l]',\n",
       " 'QF',\n",
       " 'BackScatter[/m/sr]',\n",
       " 'QF',\n",
       " 'CDOM[ppb]',\n",
       " 'QF']"
      ]
     },
     "execution_count": 230,
     "metadata": {},
     "output_type": "execute_result"
    }
   ],
   "source": [
    "data[meta_end]"
   ]
  },
  {
   "cell_type": "markdown",
   "metadata": {},
   "source": [
    "rows of data"
   ]
  },
  {
   "cell_type": "code",
   "execution_count": 231,
   "metadata": {
    "collapsed": false
   },
   "outputs": [
    {
     "data": {
      "text/plain": [
       "['0037SoOcn',\n",
       " '1',\n",
       " 'C',\n",
       " '12/05/2014',\n",
       " '21:51',\n",
       " '11.352',\n",
       " '-39.254',\n",
       " '',\n",
       " '1798.80',\n",
       " '0',\n",
       " '2.7423',\n",
       " '0',\n",
       " '34.7770',\n",
       " '0',\n",
       " '27.731',\n",
       " '0',\n",
       " '210.99',\n",
       " '0',\n",
       " '63.11',\n",
       " '0',\n",
       " '27.70',\n",
       " '0',\n",
       " '0.01',\n",
       " '0',\n",
       " '0.000131',\n",
       " '0',\n",
       " '2.37',\n",
       " '0']"
      ]
     },
     "execution_count": 231,
     "metadata": {},
     "output_type": "execute_result"
    }
   ],
   "source": [
    "data[meta_end + 1]"
   ]
  },
  {
   "cell_type": "code",
   "execution_count": 236,
   "metadata": {
    "collapsed": false
   },
   "outputs": [
    {
     "name": "stdout",
     "output_type": "stream",
     "text": [
      "This file contains 38837 rows.\n"
     ]
    }
   ],
   "source": [
    "print(\"This file contains {} rows.\".format(len(data[meta_end + 1:])))"
   ]
  },
  {
   "cell_type": "markdown",
   "metadata": {},
   "source": [
    "We can read the data into a tabular data structure, such as a Pandas Dataframe or a MySQL database."
   ]
  },
  {
   "cell_type": "code",
   "execution_count": 257,
   "metadata": {
    "collapsed": false
   },
   "outputs": [],
   "source": [
    "df = pd.DataFrame(data= data[meta_end + 1:], \n",
    "                  columns= data[meta_end])"
   ]
  },
  {
   "cell_type": "code",
   "execution_count": 258,
   "metadata": {
    "collapsed": false
   },
   "outputs": [
    {
     "data": {
      "text/html": [
       "<div>\n",
       "<table border=\"1\" class=\"dataframe\">\n",
       "  <thead>\n",
       "    <tr style=\"text-align: right;\">\n",
       "      <th></th>\n",
       "      <th>Cruise</th>\n",
       "      <th>Station</th>\n",
       "      <th>Type</th>\n",
       "      <th>mon/day/yr</th>\n",
       "      <th>hh:mm</th>\n",
       "      <th>Lon [°E]</th>\n",
       "      <th>Lat [°N]</th>\n",
       "      <th>Bot. Depth[m]</th>\n",
       "      <th>Depth[m]</th>\n",
       "      <th>QF</th>\n",
       "      <th>...</th>\n",
       "      <th>OxygenSat[%]</th>\n",
       "      <th>QF</th>\n",
       "      <th>Nitrate[µM]</th>\n",
       "      <th>QF</th>\n",
       "      <th>Chlorophyll[µg/l]</th>\n",
       "      <th>QF</th>\n",
       "      <th>BackScatter[/m/sr]</th>\n",
       "      <th>QF</th>\n",
       "      <th>CDOM[ppb]</th>\n",
       "      <th>QF</th>\n",
       "    </tr>\n",
       "  </thead>\n",
       "  <tbody>\n",
       "    <tr>\n",
       "      <th>0</th>\n",
       "      <td>0037SoOcn</td>\n",
       "      <td>1</td>\n",
       "      <td>C</td>\n",
       "      <td>12/05/2014</td>\n",
       "      <td>21:51</td>\n",
       "      <td>11.352</td>\n",
       "      <td>-39.254</td>\n",
       "      <td></td>\n",
       "      <td>1798.80</td>\n",
       "      <td>0</td>\n",
       "      <td>...</td>\n",
       "      <td>63.11</td>\n",
       "      <td>0</td>\n",
       "      <td>27.70</td>\n",
       "      <td>0</td>\n",
       "      <td>0.01</td>\n",
       "      <td>0</td>\n",
       "      <td>0.000131</td>\n",
       "      <td>0</td>\n",
       "      <td>2.37</td>\n",
       "      <td>0</td>\n",
       "    </tr>\n",
       "    <tr>\n",
       "      <th>1</th>\n",
       "      <td>0037SoOcn</td>\n",
       "      <td>1</td>\n",
       "      <td>C</td>\n",
       "      <td>12/05/2014</td>\n",
       "      <td>21:51</td>\n",
       "      <td>11.352</td>\n",
       "      <td>-39.254</td>\n",
       "      <td></td>\n",
       "      <td>1699.70</td>\n",
       "      <td>0</td>\n",
       "      <td>...</td>\n",
       "      <td>63.52</td>\n",
       "      <td>0</td>\n",
       "      <td>28.40</td>\n",
       "      <td>0</td>\n",
       "      <td>0.015</td>\n",
       "      <td>0</td>\n",
       "      <td>0.000137</td>\n",
       "      <td>0</td>\n",
       "      <td>2.38</td>\n",
       "      <td>0</td>\n",
       "    </tr>\n",
       "    <tr>\n",
       "      <th>2</th>\n",
       "      <td>0037SoOcn</td>\n",
       "      <td>1</td>\n",
       "      <td>C</td>\n",
       "      <td>12/05/2014</td>\n",
       "      <td>21:51</td>\n",
       "      <td>11.352</td>\n",
       "      <td>-39.254</td>\n",
       "      <td></td>\n",
       "      <td>1598.90</td>\n",
       "      <td>0</td>\n",
       "      <td>...</td>\n",
       "      <td>61.70</td>\n",
       "      <td>0</td>\n",
       "      <td>29.50</td>\n",
       "      <td>0</td>\n",
       "      <td>0.015</td>\n",
       "      <td>0</td>\n",
       "      <td>0.000133</td>\n",
       "      <td>0</td>\n",
       "      <td>2.40</td>\n",
       "      <td>0</td>\n",
       "    </tr>\n",
       "    <tr>\n",
       "      <th>3</th>\n",
       "      <td>0037SoOcn</td>\n",
       "      <td>1</td>\n",
       "      <td>C</td>\n",
       "      <td>12/05/2014</td>\n",
       "      <td>21:51</td>\n",
       "      <td>11.352</td>\n",
       "      <td>-39.254</td>\n",
       "      <td></td>\n",
       "      <td>1499.90</td>\n",
       "      <td>0</td>\n",
       "      <td>...</td>\n",
       "      <td>59.48</td>\n",
       "      <td>0</td>\n",
       "      <td>30.60</td>\n",
       "      <td>0</td>\n",
       "      <td>0.015</td>\n",
       "      <td>0</td>\n",
       "      <td>0.000138</td>\n",
       "      <td>0</td>\n",
       "      <td>2.35</td>\n",
       "      <td>0</td>\n",
       "    </tr>\n",
       "    <tr>\n",
       "      <th>4</th>\n",
       "      <td>0037SoOcn</td>\n",
       "      <td>1</td>\n",
       "      <td>C</td>\n",
       "      <td>12/05/2014</td>\n",
       "      <td>21:51</td>\n",
       "      <td>11.352</td>\n",
       "      <td>-39.254</td>\n",
       "      <td></td>\n",
       "      <td>1399.60</td>\n",
       "      <td>0</td>\n",
       "      <td>...</td>\n",
       "      <td>57.76</td>\n",
       "      <td>0</td>\n",
       "      <td>31.70</td>\n",
       "      <td>0</td>\n",
       "      <td>0.01</td>\n",
       "      <td>0</td>\n",
       "      <td>0.000135</td>\n",
       "      <td>0</td>\n",
       "      <td>2.35</td>\n",
       "      <td>0</td>\n",
       "    </tr>\n",
       "  </tbody>\n",
       "</table>\n",
       "<p>5 rows × 28 columns</p>\n",
       "</div>"
      ],
      "text/plain": [
       "      Cruise Station Type  mon/day/yr  hh:mm Lon [°E] Lat [°N] Bot. Depth[m]  \\\n",
       "0  0037SoOcn       1    C  12/05/2014  21:51   11.352  -39.254                 \n",
       "1  0037SoOcn       1    C  12/05/2014  21:51   11.352  -39.254                 \n",
       "2  0037SoOcn       1    C  12/05/2014  21:51   11.352  -39.254                 \n",
       "3  0037SoOcn       1    C  12/05/2014  21:51   11.352  -39.254                 \n",
       "4  0037SoOcn       1    C  12/05/2014  21:51   11.352  -39.254                 \n",
       "\n",
       "  Depth[m] QF ... OxygenSat[%] QF Nitrate[µM] QF Chlorophyll[µg/l] QF  \\\n",
       "0  1798.80  0 ...        63.11  0       27.70  0              0.01  0   \n",
       "1  1699.70  0 ...        63.52  0       28.40  0             0.015  0   \n",
       "2  1598.90  0 ...        61.70  0       29.50  0             0.015  0   \n",
       "3  1499.90  0 ...        59.48  0       30.60  0             0.015  0   \n",
       "4  1399.60  0 ...        57.76  0       31.70  0              0.01  0   \n",
       "\n",
       "  BackScatter[/m/sr] QF CDOM[ppb] QF  \n",
       "0           0.000131  0      2.37  0  \n",
       "1           0.000137  0      2.38  0  \n",
       "2           0.000133  0      2.40  0  \n",
       "3           0.000138  0      2.35  0  \n",
       "4           0.000135  0      2.35  0  \n",
       "\n",
       "[5 rows x 28 columns]"
      ]
     },
     "execution_count": 258,
     "metadata": {},
     "output_type": "execute_result"
    }
   ],
   "source": [
    "df.head()"
   ]
  },
  {
   "cell_type": "markdown",
   "metadata": {},
   "source": [
    "To do this easily for other files in the FTP, we must ignore rows containing metadata (where line starts with '//')"
   ]
  },
  {
   "cell_type": "code",
   "execution_count": 201,
   "metadata": {
    "collapsed": true
   },
   "outputs": [],
   "source": [
    "import sys"
   ]
  },
  {
   "cell_type": "code",
   "execution_count": 206,
   "metadata": {
    "collapsed": false
   },
   "outputs": [],
   "source": [
    "def find_data_start(ftp_url):\n",
    "\n",
    "    try:\n",
    "        # request from the FTP\n",
    "        req = ur.Request(ftp_url)\n",
    "        f = urlopen_retry(req)\n",
    "    except:\n",
    "        print('Unexpected error: {}'\n",
    "              '\\nCheck ftp directory is correct.'.format(sys.exc_info()[0]))\n",
    "        raise\n",
    "    \n",
    "    # read the file into disk as a string.\n",
    "    raw_data = f.read().decode(encoding).split('\\n')\n",
    "    \n",
    "    # This is where we look for the metadata to end.\n",
    "    for index, row in enumerate(raw_data):\n",
    "        if row[:2] != '//' and row:\n",
    "            return index"
   ]
  },
  {
   "cell_type": "code",
   "execution_count": 237,
   "metadata": {
    "collapsed": false,
    "scrolled": false
   },
   "outputs": [
    {
     "data": {
      "text/plain": [
       "8"
      ]
     },
     "execution_count": 237,
     "metadata": {},
     "output_type": "execute_result"
    }
   ],
   "source": [
    "find_data_start(ftp_url)"
   ]
  },
  {
   "cell_type": "markdown",
   "metadata": {},
   "source": [
    "How we know where the headers begin."
   ]
  },
  {
   "cell_type": "code",
   "execution_count": 238,
   "metadata": {
    "collapsed": false,
    "scrolled": false
   },
   "outputs": [
    {
     "data": {
      "text/plain": [
       "['Cruise',\n",
       " 'Station',\n",
       " 'Type',\n",
       " 'mon/day/yr',\n",
       " 'hh:mm',\n",
       " 'Lon [°E]',\n",
       " 'Lat [°N]',\n",
       " 'Bot. Depth[m]',\n",
       " 'Depth[m]',\n",
       " 'QF',\n",
       " 'Temperature[°C]',\n",
       " 'QF',\n",
       " 'Salinity',\n",
       " 'QF',\n",
       " 'Density',\n",
       " 'QF',\n",
       " 'Oxygen[µM]',\n",
       " 'QF',\n",
       " 'OxygenSat[%]',\n",
       " 'QF',\n",
       " 'Nitrate[µM]',\n",
       " 'QF',\n",
       " 'Chlorophyll[µg/l]',\n",
       " 'QF',\n",
       " 'BackScatter[/m/sr]',\n",
       " 'QF',\n",
       " 'CDOM[ppb]',\n",
       " 'QF']"
      ]
     },
     "execution_count": 238,
     "metadata": {},
     "output_type": "execute_result"
    }
   ],
   "source": [
    "data[find_data_start(ftp_url)]"
   ]
  },
  {
   "cell_type": "markdown",
   "metadata": {},
   "source": [
    "Let's preview the data in Pandas"
   ]
  },
  {
   "cell_type": "code",
   "execution_count": 1,
   "metadata": {
    "collapsed": true
   },
   "outputs": [],
   "source": [
    "import time\n",
    "\n",
    "import numpy as np\n",
    "import pandas as pd\n",
    "pd.options.mode.chained_assignment = None "
   ]
  },
  {
   "cell_type": "code",
   "execution_count": 149,
   "metadata": {
    "collapsed": false
   },
   "outputs": [
    {
     "data": {
      "text/plain": [
       "'ftp://ftp.mbari.org/pub/SOCCOM/FloatVizData/QC/6881StnPQC.TXT'"
      ]
     },
     "execution_count": 149,
     "metadata": {},
     "output_type": "execute_result"
    }
   ],
   "source": [
    "ftp_url"
   ]
  },
  {
   "cell_type": "code",
   "execution_count": 191,
   "metadata": {
    "collapsed": true
   },
   "outputs": [],
   "source": [
    "def urlopen_retry(req):\n",
    "    '''urlopen can fail because of network issues, let's retry the method 3 times.\n",
    "    Let's also let 5 seconds go by.\n",
    "    '''\n",
    "    attempts = 0\n",
    "\n",
    "    while attempts < 3:\n",
    "       \n",
    "        class MyException(Exception):\n",
    "            pass\n",
    "\n",
    "        try:\n",
    "            file = ur.urlopen(req, timeout= 180)\n",
    "            break\n",
    "        except ur.URLError as e:\n",
    "            attempts += 1\n",
    "            time.sleep(5)\n",
    "            if isinstance(e.reason, socket.timeout):\n",
    "                raise MyException(\"There was an error: %r\" % e)\n",
    "            else:\n",
    "                # reraise the original error\n",
    "                raise\n",
    "        except socket.timeout as e:\n",
    "            attempts += 1\n",
    "            time.sleep(5)\n",
    "            raise MyException(\"There was an error: %r\" % e)\n",
    "       \n",
    "    return file"
   ]
  },
  {
   "cell_type": "code",
   "execution_count": 192,
   "metadata": {
    "collapsed": true
   },
   "outputs": [],
   "source": [
    "def preprocess(df):\n",
    "    '''Removes unamed, and QF columns.\n",
    "    Fills columns with null vals when the dataframe doesn't have the column.\n",
    "    '''\n",
    "    df = df[[col for col in df.columns \n",
    "             if 'QF' not in col \n",
    "             and 'Unnamed' not in col]]\n",
    "    \n",
    "    df.columns = [remap_cols.get(col, col) for col in df.columns]\n",
    "    \n",
    "    # fill null columns\n",
    "    for col in missing_cols:\n",
    "        if col not in df:\n",
    "            df[col] = np.nan\n",
    "    \n",
    "    return df"
   ]
  },
  {
   "cell_type": "code",
   "execution_count": 188,
   "metadata": {
    "collapsed": false
   },
   "outputs": [],
   "source": [
    "def ftp_to_df(ftp_url, nrows=None):\n",
    "    '''\n",
    "    Checks where data starts in ftp file.\n",
    "    requests ftp file.\n",
    "    normalizes the columns.\n",
    "    '''\n",
    "    # find where to skip metadata.\n",
    "    skip_index = find_data_start(ftp_url)\n",
    "    \n",
    "    # get the FTP file\n",
    "    req = ur.Request(ftp_url)\n",
    "    file = urlopen_retry(req)\n",
    "    \n",
    "    # read the file as a Pandas dataframe.\n",
    "    df = pd.read_csv(file, sep= '\\t', nrows= nrows,\n",
    "                     skiprows= skip_index, \n",
    "                     encoding= encoding,\n",
    "                     error_bad_lines= False,\n",
    "                     warn_bad_lines= False)\n",
    "    \n",
    "    # normalize samples\n",
    "    df = preprocess(df)\n",
    "    return df"
   ]
  },
  {
   "cell_type": "code",
   "execution_count": 190,
   "metadata": {
    "collapsed": false
   },
   "outputs": [
    {
     "data": {
      "text/html": [
       "<div>\n",
       "<table border=\"1\" class=\"dataframe\">\n",
       "  <thead>\n",
       "    <tr style=\"text-align: right;\">\n",
       "      <th></th>\n",
       "      <th>Cruise</th>\n",
       "      <th>Station</th>\n",
       "      <th>Type</th>\n",
       "      <th>mon/day/yr</th>\n",
       "      <th>hh:mm</th>\n",
       "      <th>Lon [°E]</th>\n",
       "      <th>Lat [°N]</th>\n",
       "      <th>Bot. Depth[m]</th>\n",
       "      <th>Depth[m]</th>\n",
       "      <th>Temperature[°C]</th>\n",
       "      <th>Salinity</th>\n",
       "      <th>Density</th>\n",
       "      <th>Oxygen[µM]</th>\n",
       "      <th>OxygenSat[%]</th>\n",
       "      <th>Nitrate[µM]</th>\n",
       "      <th>pHinsitu[Total]</th>\n",
       "      <th>pH25C[Total]</th>\n",
       "      <th>Chlorophyll[µg/l]</th>\n",
       "      <th>CDOM[ppb]</th>\n",
       "      <th>BackScatter[/m/sr]</th>\n",
       "    </tr>\n",
       "  </thead>\n",
       "  <tbody>\n",
       "    <tr>\n",
       "      <th>0</th>\n",
       "      <td>6881StnP</td>\n",
       "      <td>1</td>\n",
       "      <td>C</td>\n",
       "      <td>02/13/2013</td>\n",
       "      <td>15:02</td>\n",
       "      <td>214.901</td>\n",
       "      <td>50.075</td>\n",
       "      <td>NaN</td>\n",
       "      <td>998.61</td>\n",
       "      <td>2.8516</td>\n",
       "      <td>34.3867</td>\n",
       "      <td>27.368</td>\n",
       "      <td>16.69</td>\n",
       "      <td>4.99</td>\n",
       "      <td>46.14</td>\n",
       "      <td>NaN</td>\n",
       "      <td>NaN</td>\n",
       "      <td>NaN</td>\n",
       "      <td>NaN</td>\n",
       "      <td>NaN</td>\n",
       "    </tr>\n",
       "    <tr>\n",
       "      <th>1</th>\n",
       "      <td>6881StnP</td>\n",
       "      <td>1</td>\n",
       "      <td>C</td>\n",
       "      <td>02/13/2013</td>\n",
       "      <td>15:02</td>\n",
       "      <td>214.901</td>\n",
       "      <td>50.075</td>\n",
       "      <td>NaN</td>\n",
       "      <td>951.33</td>\n",
       "      <td>2.9087</td>\n",
       "      <td>34.3733</td>\n",
       "      <td>27.352</td>\n",
       "      <td>17.47</td>\n",
       "      <td>5.23</td>\n",
       "      <td>46.25</td>\n",
       "      <td>NaN</td>\n",
       "      <td>NaN</td>\n",
       "      <td>NaN</td>\n",
       "      <td>NaN</td>\n",
       "      <td>NaN</td>\n",
       "    </tr>\n",
       "    <tr>\n",
       "      <th>2</th>\n",
       "      <td>6881StnP</td>\n",
       "      <td>1</td>\n",
       "      <td>C</td>\n",
       "      <td>02/13/2013</td>\n",
       "      <td>15:02</td>\n",
       "      <td>214.901</td>\n",
       "      <td>50.075</td>\n",
       "      <td>NaN</td>\n",
       "      <td>901.56</td>\n",
       "      <td>2.9634</td>\n",
       "      <td>34.3609</td>\n",
       "      <td>27.336</td>\n",
       "      <td>16.91</td>\n",
       "      <td>5.07</td>\n",
       "      <td>46.23</td>\n",
       "      <td>NaN</td>\n",
       "      <td>NaN</td>\n",
       "      <td>NaN</td>\n",
       "      <td>NaN</td>\n",
       "      <td>NaN</td>\n",
       "    </tr>\n",
       "    <tr>\n",
       "      <th>3</th>\n",
       "      <td>6881StnP</td>\n",
       "      <td>1</td>\n",
       "      <td>C</td>\n",
       "      <td>02/13/2013</td>\n",
       "      <td>15:02</td>\n",
       "      <td>214.901</td>\n",
       "      <td>50.075</td>\n",
       "      <td>NaN</td>\n",
       "      <td>849.01</td>\n",
       "      <td>3.0817</td>\n",
       "      <td>34.3343</td>\n",
       "      <td>27.302</td>\n",
       "      <td>16.69</td>\n",
       "      <td>5.02</td>\n",
       "      <td>45.95</td>\n",
       "      <td>NaN</td>\n",
       "      <td>NaN</td>\n",
       "      <td>NaN</td>\n",
       "      <td>NaN</td>\n",
       "      <td>NaN</td>\n",
       "    </tr>\n",
       "    <tr>\n",
       "      <th>4</th>\n",
       "      <td>6881StnP</td>\n",
       "      <td>1</td>\n",
       "      <td>C</td>\n",
       "      <td>02/13/2013</td>\n",
       "      <td>15:02</td>\n",
       "      <td>214.901</td>\n",
       "      <td>50.075</td>\n",
       "      <td>NaN</td>\n",
       "      <td>801.64</td>\n",
       "      <td>3.1733</td>\n",
       "      <td>34.3139</td>\n",
       "      <td>27.276</td>\n",
       "      <td>16.58</td>\n",
       "      <td>5.00</td>\n",
       "      <td>46.04</td>\n",
       "      <td>NaN</td>\n",
       "      <td>NaN</td>\n",
       "      <td>NaN</td>\n",
       "      <td>NaN</td>\n",
       "      <td>NaN</td>\n",
       "    </tr>\n",
       "  </tbody>\n",
       "</table>\n",
       "</div>"
      ],
      "text/plain": [
       "     Cruise  Station Type  mon/day/yr  hh:mm  Lon [°E]  Lat [°N]  \\\n",
       "0  6881StnP        1    C  02/13/2013  15:02   214.901    50.075   \n",
       "1  6881StnP        1    C  02/13/2013  15:02   214.901    50.075   \n",
       "2  6881StnP        1    C  02/13/2013  15:02   214.901    50.075   \n",
       "3  6881StnP        1    C  02/13/2013  15:02   214.901    50.075   \n",
       "4  6881StnP        1    C  02/13/2013  15:02   214.901    50.075   \n",
       "\n",
       "   Bot. Depth[m]  Depth[m]  Temperature[°C]  Salinity  Density  Oxygen[µM]  \\\n",
       "0            NaN    998.61           2.8516   34.3867   27.368       16.69   \n",
       "1            NaN    951.33           2.9087   34.3733   27.352       17.47   \n",
       "2            NaN    901.56           2.9634   34.3609   27.336       16.91   \n",
       "3            NaN    849.01           3.0817   34.3343   27.302       16.69   \n",
       "4            NaN    801.64           3.1733   34.3139   27.276       16.58   \n",
       "\n",
       "   OxygenSat[%]  Nitrate[µM]  pHinsitu[Total]  pH25C[Total]  \\\n",
       "0          4.99        46.14              NaN           NaN   \n",
       "1          5.23        46.25              NaN           NaN   \n",
       "2          5.07        46.23              NaN           NaN   \n",
       "3          5.02        45.95              NaN           NaN   \n",
       "4          5.00        46.04              NaN           NaN   \n",
       "\n",
       "   Chlorophyll[µg/l]  CDOM[ppb]  BackScatter[/m/sr]  \n",
       "0                NaN        NaN                 NaN  \n",
       "1                NaN        NaN                 NaN  \n",
       "2                NaN        NaN                 NaN  \n",
       "3                NaN        NaN                 NaN  \n",
       "4                NaN        NaN                 NaN  "
      ]
     },
     "execution_count": 190,
     "metadata": {},
     "output_type": "execute_result"
    }
   ],
   "source": [
    "df = ftp_to_df(ftp_url)\n",
    "df.head()"
   ]
  },
  {
   "cell_type": "code",
   "execution_count": 192,
   "metadata": {
    "collapsed": false
   },
   "outputs": [
    {
     "data": {
      "text/plain": [
       "Cruise                 object\n",
       "Station                 int64\n",
       "Type                   object\n",
       "mon/day/yr             object\n",
       "hh:mm                  object\n",
       "Lon [°E]              float64\n",
       "Lat [°N]              float64\n",
       "Bot. Depth[m]         float64\n",
       "Depth[m]              float64\n",
       "QF                    float64\n",
       "Temperature[°C]       float64\n",
       "QF.1                  float64\n",
       "Salinity              float64\n",
       "QF.2                  float64\n",
       "Density               float64\n",
       "QF.3                  float64\n",
       "Oxygen[µM]            float64\n",
       "QF.4                  float64\n",
       "OxygenSat[%]          float64\n",
       "QF.5                  float64\n",
       "Nitrate[µM]           float64\n",
       "QF.6                  float64\n",
       "Chlorophyll[µg/l]     float64\n",
       "QF.7                  float64\n",
       "BackScatter[/m/sr]    float64\n",
       "QF.8                  float64\n",
       "CDOM[ppb]             float64\n",
       "QF.9                  float64\n",
       "dtype: object"
      ]
     },
     "execution_count": 192,
     "metadata": {},
     "output_type": "execute_result"
    }
   ],
   "source": [
    "df.dtypes"
   ]
  },
  {
   "cell_type": "markdown",
   "metadata": {},
   "source": [
    "Are all columns the same accross files?"
   ]
  },
  {
   "cell_type": "code",
   "execution_count": 106,
   "metadata": {
    "collapsed": false,
    "scrolled": false
   },
   "outputs": [],
   "source": [
    "cols = dict()\n",
    "\n",
    "for file in files[:-5]:\n",
    "    ftp_url = os.path.join('ftp://', host, data_in_dir, file)\n",
    "    df = ftp_to_df(ftp_url, nrows=5)\n",
    "        \n",
    "    time.sleep(1)    "
   ]
  },
  {
   "cell_type": "code",
   "execution_count": 112,
   "metadata": {
    "collapsed": false
   },
   "outputs": [
    {
     "data": {
      "text/plain": [
       "{'BackScatter[/m/sr]': 65,\n",
       " 'Bot. Depth [m]': 6,\n",
       " 'Bot. Depth[m]': 98,\n",
       " 'CDOM[ppb]': 14,\n",
       " 'Chlorophyll[µg/l]': 62,\n",
       " 'Chlorophyll[Âµg/l]': 3,\n",
       " 'Cruise': 104,\n",
       " 'Density': 104,\n",
       " 'Depth[m]': 104,\n",
       " 'Lat [°N]': 101,\n",
       " 'Lat [Â°N]': 3,\n",
       " 'Log of changes done on 10/30/2013:': 1,\n",
       " 'Lon [°E]': 101,\n",
       " 'Lon [Â°E]': 3,\n",
       " 'Nitrate[µM]': 101,\n",
       " 'Nitrate[ÂµM]': 3,\n",
       " 'OxygenSat[%]': 104,\n",
       " 'Oxygen[µM]': 101,\n",
       " 'Oxygen[ÂµM]': 3,\n",
       " 'QF': 104,\n",
       " 'QF.1': 104,\n",
       " 'QF.10': 44,\n",
       " 'QF.11': 12,\n",
       " 'QF.2': 104,\n",
       " 'QF.3': 104,\n",
       " 'QF.4': 104,\n",
       " 'QF.5': 104,\n",
       " 'QF.6': 104,\n",
       " 'QF.7': 76,\n",
       " 'QF.8': 76,\n",
       " 'QF.9': 46,\n",
       " 'Salinity': 104,\n",
       " 'Station': 104,\n",
       " 'Temperature[°C]': 101,\n",
       " 'Temperature[Â°C]': 3,\n",
       " 'Type': 104,\n",
       " 'hh:mm': 104,\n",
       " 'mon/day/yr': 104,\n",
       " 'pH25C[Total]': 55,\n",
       " 'pHinsitu[Total]': 55}"
      ]
     },
     "execution_count": 112,
     "metadata": {},
     "output_type": "execute_result"
    }
   ],
   "source": [
    "cols"
   ]
  },
  {
   "cell_type": "markdown",
   "metadata": {},
   "source": [
    "We can fix some of these discrepencies by renaming columns.<br>\n",
    "We can also create placeholders for missing columns."
   ]
  },
  {
   "cell_type": "code",
   "execution_count": 59,
   "metadata": {
    "collapsed": true
   },
   "outputs": [],
   "source": [
    "remap_cols = {'Temperature[Â°C]': 'Temperature[°C]',\n",
    "              'Oxygen[ÂµM]': 'Oxygen[µM]',\n",
    "              'Nitrate[ÂµM]': 'Nitrate[µM]',\n",
    "              'Lon [Â°E]': 'Lon [°E]',\n",
    "              'Lat [Â°N]': 'Lat [°N]',\n",
    "              'Chlorophyll[Âµg/l]' : 'Chlorophyll[µg/l]',\n",
    "              'Bot. Depth [m]': 'Bot. Depth[m]'}\n",
    "\n",
    "missing_cols = ['pHinsitu[Total]',\n",
    "                'pH25C[Total]',\n",
    "                'Chlorophyll[µg/l]',\n",
    "                'CDOM[ppb]',\n",
    "                'BackScatter[/m/sr]']"
   ]
  },
  {
   "cell_type": "code",
   "execution_count": 157,
   "metadata": {
    "collapsed": false
   },
   "outputs": [],
   "source": [
    "targets = list_records(host, data_in_dir, full_path=True)[:-5]"
   ]
  },
  {
   "cell_type": "markdown",
   "metadata": {},
   "source": [
    "Using the list of files from `list_records()`, we can get hit the FTP and send it's contents into individual Pandas dataframes, which we will concatenate as `combined_df`"
   ]
  },
  {
   "cell_type": "code",
   "execution_count": 154,
   "metadata": {
    "collapsed": true
   },
   "outputs": [],
   "source": [
    "from multiprocessing import Pool, freeze_support"
   ]
  },
  {
   "cell_type": "code",
   "execution_count": 193,
   "metadata": {
    "collapsed": false
   },
   "outputs": [],
   "source": [
    "freeze_support()\n",
    "with Pool(3) as pool:\n",
    "    df_list = pool.map(ftp_to_df, targets)\n",
    "    combined_df = pd.concat(df_list, ignore_index=True) "
   ]
  },
  {
   "cell_type": "code",
   "execution_count": 194,
   "metadata": {
    "collapsed": false
   },
   "outputs": [
    {
     "data": {
      "text/html": [
       "<div>\n",
       "<table border=\"1\" class=\"dataframe\">\n",
       "  <thead>\n",
       "    <tr style=\"text-align: right;\">\n",
       "      <th></th>\n",
       "      <th>count</th>\n",
       "      <th>mean</th>\n",
       "      <th>std</th>\n",
       "      <th>min</th>\n",
       "      <th>25%</th>\n",
       "      <th>50%</th>\n",
       "      <th>75%</th>\n",
       "      <th>max</th>\n",
       "    </tr>\n",
       "  </thead>\n",
       "  <tbody>\n",
       "    <tr>\n",
       "      <th>BackScatter[/m/sr]</th>\n",
       "      <td>676846.0</td>\n",
       "      <td>0.002738</td>\n",
       "      <td>0.168231</td>\n",
       "      <td>-0.000635</td>\n",
       "      <td>0.000108</td>\n",
       "      <td>0.000123</td>\n",
       "      <td>0.000147</td>\n",
       "      <td>10.94342</td>\n",
       "    </tr>\n",
       "    <tr>\n",
       "      <th>Bot. Depth[m]</th>\n",
       "      <td>0.0</td>\n",
       "      <td>NaN</td>\n",
       "      <td>NaN</td>\n",
       "      <td>NaN</td>\n",
       "      <td>NaN</td>\n",
       "      <td>NaN</td>\n",
       "      <td>NaN</td>\n",
       "      <td>NaN</td>\n",
       "    </tr>\n",
       "    <tr>\n",
       "      <th>CDOM[ppb]</th>\n",
       "      <td>362270.0</td>\n",
       "      <td>79.402412</td>\n",
       "      <td>3663.622839</td>\n",
       "      <td>0.130000</td>\n",
       "      <td>1.670000</td>\n",
       "      <td>2.050000</td>\n",
       "      <td>2.830000</td>\n",
       "      <td>182865.79000</td>\n",
       "    </tr>\n",
       "    <tr>\n",
       "      <th>Chlorophyll[µg/l]</th>\n",
       "      <td>676846.0</td>\n",
       "      <td>8.444038</td>\n",
       "      <td>547.552034</td>\n",
       "      <td>-2.410000</td>\n",
       "      <td>0.005091</td>\n",
       "      <td>0.020000</td>\n",
       "      <td>0.060000</td>\n",
       "      <td>36908.67000</td>\n",
       "    </tr>\n",
       "    <tr>\n",
       "      <th>Density</th>\n",
       "      <td>1156420.0</td>\n",
       "      <td>26.532823</td>\n",
       "      <td>1.184378</td>\n",
       "      <td>17.858000</td>\n",
       "      <td>26.008000</td>\n",
       "      <td>26.851000</td>\n",
       "      <td>27.337000</td>\n",
       "      <td>51.87800</td>\n",
       "    </tr>\n",
       "    <tr>\n",
       "      <th>Depth[m]</th>\n",
       "      <td>1156420.0</td>\n",
       "      <td>378.863805</td>\n",
       "      <td>340.335340</td>\n",
       "      <td>1.980000</td>\n",
       "      <td>101.860000</td>\n",
       "      <td>280.970000</td>\n",
       "      <td>592.000000</td>\n",
       "      <td>2003.80000</td>\n",
       "    </tr>\n",
       "    <tr>\n",
       "      <th>Lat [°N]</th>\n",
       "      <td>1091024.0</td>\n",
       "      <td>2.784207</td>\n",
       "      <td>43.158038</td>\n",
       "      <td>-70.517000</td>\n",
       "      <td>-46.524000</td>\n",
       "      <td>22.389000</td>\n",
       "      <td>34.619000</td>\n",
       "      <td>83.10300</td>\n",
       "    </tr>\n",
       "    <tr>\n",
       "      <th>Lon [°E]</th>\n",
       "      <td>1091024.0</td>\n",
       "      <td>127.539108</td>\n",
       "      <td>147.150272</td>\n",
       "      <td>-170.162000</td>\n",
       "      <td>11.134000</td>\n",
       "      <td>198.290000</td>\n",
       "      <td>221.129000</td>\n",
       "      <td>359.96500</td>\n",
       "    </tr>\n",
       "    <tr>\n",
       "      <th>Nitrate[µM]</th>\n",
       "      <td>740960.0</td>\n",
       "      <td>19.728505</td>\n",
       "      <td>15.547847</td>\n",
       "      <td>-228.010000</td>\n",
       "      <td>5.910000</td>\n",
       "      <td>19.320000</td>\n",
       "      <td>33.210000</td>\n",
       "      <td>260.51000</td>\n",
       "    </tr>\n",
       "    <tr>\n",
       "      <th>OxygenSat[%]</th>\n",
       "      <td>1155385.0</td>\n",
       "      <td>77.953511</td>\n",
       "      <td>126.987055</td>\n",
       "      <td>-10.560000</td>\n",
       "      <td>55.060000</td>\n",
       "      <td>77.280000</td>\n",
       "      <td>94.660000</td>\n",
       "      <td>2078.61000</td>\n",
       "    </tr>\n",
       "    <tr>\n",
       "      <th>Oxygen[µM]</th>\n",
       "      <td>1155385.0</td>\n",
       "      <td>222.980069</td>\n",
       "      <td>343.337807</td>\n",
       "      <td>-28.370000</td>\n",
       "      <td>181.760000</td>\n",
       "      <td>210.320000</td>\n",
       "      <td>252.530000</td>\n",
       "      <td>6975.33000</td>\n",
       "    </tr>\n",
       "    <tr>\n",
       "      <th>Salinity</th>\n",
       "      <td>1156420.0</td>\n",
       "      <td>34.590917</td>\n",
       "      <td>0.766461</td>\n",
       "      <td>29.381000</td>\n",
       "      <td>34.173200</td>\n",
       "      <td>34.507750</td>\n",
       "      <td>34.929000</td>\n",
       "      <td>64.40610</td>\n",
       "    </tr>\n",
       "    <tr>\n",
       "      <th>Station</th>\n",
       "      <td>1163996.0</td>\n",
       "      <td>94.097280</td>\n",
       "      <td>77.901604</td>\n",
       "      <td>1.000000</td>\n",
       "      <td>25.000000</td>\n",
       "      <td>74.000000</td>\n",
       "      <td>150.000000</td>\n",
       "      <td>365.00000</td>\n",
       "    </tr>\n",
       "    <tr>\n",
       "      <th>Temperature[°C]</th>\n",
       "      <td>1156420.0</td>\n",
       "      <td>8.819185</td>\n",
       "      <td>7.262037</td>\n",
       "      <td>-1.883700</td>\n",
       "      <td>3.163100</td>\n",
       "      <td>6.804350</td>\n",
       "      <td>13.027200</td>\n",
       "      <td>31.75860</td>\n",
       "    </tr>\n",
       "    <tr>\n",
       "      <th>pH25C[Total]</th>\n",
       "      <td>417016.0</td>\n",
       "      <td>10.452527</td>\n",
       "      <td>6.793328</td>\n",
       "      <td>-27.224000</td>\n",
       "      <td>7.585800</td>\n",
       "      <td>7.687100</td>\n",
       "      <td>8.031900</td>\n",
       "      <td>37.83870</td>\n",
       "    </tr>\n",
       "    <tr>\n",
       "      <th>pHinsitu[Total]</th>\n",
       "      <td>417016.0</td>\n",
       "      <td>10.940414</td>\n",
       "      <td>7.391318</td>\n",
       "      <td>-30.135700</td>\n",
       "      <td>7.870300</td>\n",
       "      <td>7.959300</td>\n",
       "      <td>8.073000</td>\n",
       "      <td>40.84440</td>\n",
       "    </tr>\n",
       "  </tbody>\n",
       "</table>\n",
       "</div>"
      ],
      "text/plain": [
       "                        count        mean          std         min  \\\n",
       "BackScatter[/m/sr]   676846.0    0.002738     0.168231   -0.000635   \n",
       "Bot. Depth[m]             0.0         NaN          NaN         NaN   \n",
       "CDOM[ppb]            362270.0   79.402412  3663.622839    0.130000   \n",
       "Chlorophyll[µg/l]    676846.0    8.444038   547.552034   -2.410000   \n",
       "Density             1156420.0   26.532823     1.184378   17.858000   \n",
       "Depth[m]            1156420.0  378.863805   340.335340    1.980000   \n",
       "Lat [°N]            1091024.0    2.784207    43.158038  -70.517000   \n",
       "Lon [°E]            1091024.0  127.539108   147.150272 -170.162000   \n",
       "Nitrate[µM]          740960.0   19.728505    15.547847 -228.010000   \n",
       "OxygenSat[%]        1155385.0   77.953511   126.987055  -10.560000   \n",
       "Oxygen[µM]          1155385.0  222.980069   343.337807  -28.370000   \n",
       "Salinity            1156420.0   34.590917     0.766461   29.381000   \n",
       "Station             1163996.0   94.097280    77.901604    1.000000   \n",
       "Temperature[°C]     1156420.0    8.819185     7.262037   -1.883700   \n",
       "pH25C[Total]         417016.0   10.452527     6.793328  -27.224000   \n",
       "pHinsitu[Total]      417016.0   10.940414     7.391318  -30.135700   \n",
       "\n",
       "                           25%         50%         75%           max  \n",
       "BackScatter[/m/sr]    0.000108    0.000123    0.000147      10.94342  \n",
       "Bot. Depth[m]              NaN         NaN         NaN           NaN  \n",
       "CDOM[ppb]             1.670000    2.050000    2.830000  182865.79000  \n",
       "Chlorophyll[µg/l]     0.005091    0.020000    0.060000   36908.67000  \n",
       "Density              26.008000   26.851000   27.337000      51.87800  \n",
       "Depth[m]            101.860000  280.970000  592.000000    2003.80000  \n",
       "Lat [°N]            -46.524000   22.389000   34.619000      83.10300  \n",
       "Lon [°E]             11.134000  198.290000  221.129000     359.96500  \n",
       "Nitrate[µM]           5.910000   19.320000   33.210000     260.51000  \n",
       "OxygenSat[%]         55.060000   77.280000   94.660000    2078.61000  \n",
       "Oxygen[µM]          181.760000  210.320000  252.530000    6975.33000  \n",
       "Salinity             34.173200   34.507750   34.929000      64.40610  \n",
       "Station              25.000000   74.000000  150.000000     365.00000  \n",
       "Temperature[°C]       3.163100    6.804350   13.027200      31.75860  \n",
       "pH25C[Total]          7.585800    7.687100    8.031900      37.83870  \n",
       "pHinsitu[Total]       7.870300    7.959300    8.073000      40.84440  "
      ]
     },
     "execution_count": 194,
     "metadata": {},
     "output_type": "execute_result"
    }
   ],
   "source": [
    "combined_df.describe().T"
   ]
  },
  {
   "cell_type": "markdown",
   "metadata": {},
   "source": [
    "Let's save it for later."
   ]
  },
  {
   "cell_type": "code",
   "execution_count": 195,
   "metadata": {
    "collapsed": true
   },
   "outputs": [],
   "source": [
    "combined_df.to_csv('data_in/buoys.tsv.gzip', \n",
    "                   index= False, sep= '\\t', \n",
    "                   compression= 'gzip', \n",
    "                   encoding= 'utf-8')"
   ]
  },
  {
   "cell_type": "markdown",
   "metadata": {},
   "source": [
    "If you're new to Pandas we created a tab-delimited file, that is gzip compressed, and utf-8 encoded.\n",
    "\n",
    "We can easily read it back into a Pandas Dataframe with `to_csv()`'s counterpart `read_csv()`."
   ]
  },
  {
   "cell_type": "code",
   "execution_count": 3,
   "metadata": {
    "collapsed": true
   },
   "outputs": [],
   "source": [
    "df = pd.read_csv('data_in/buoys.tsv.gzip', sep='\\t', compression='gzip')"
   ]
  },
  {
   "cell_type": "code",
   "execution_count": 4,
   "metadata": {
    "collapsed": false
   },
   "outputs": [
    {
     "data": {
      "text/plain": [
       "1163996"
      ]
     },
     "execution_count": 4,
     "metadata": {},
     "output_type": "execute_result"
    }
   ],
   "source": [
    "len(df)"
   ]
  },
  {
   "cell_type": "markdown",
   "metadata": {},
   "source": [
    "We can perform SQL-like aggregations with a few files of code."
   ]
  },
  {
   "cell_type": "code",
   "execution_count": 213,
   "metadata": {
    "collapsed": false
   },
   "outputs": [
    {
     "data": {
      "text/plain": [
       "0412Hawaii        107289\n",
       "0276NoAtlantic     76640\n",
       "0037SoOcn          38836\n",
       "0508SoOcn          27467\n",
       "7622Hawaii         21894\n",
       "Name: Cruise, dtype: int64"
      ]
     },
     "execution_count": 213,
     "metadata": {},
     "output_type": "execute_result"
    }
   ],
   "source": [
    "df['Cruise'].value_counts().head()"
   ]
  },
  {
   "cell_type": "markdown",
   "metadata": {},
   "source": [
    "Filtering the dataframe is very simple..."
   ]
  },
  {
   "cell_type": "code",
   "execution_count": 212,
   "metadata": {
    "collapsed": false
   },
   "outputs": [
    {
     "data": {
      "text/html": [
       "<div>\n",
       "<table border=\"1\" class=\"dataframe\">\n",
       "  <thead>\n",
       "    <tr style=\"text-align: right;\">\n",
       "      <th></th>\n",
       "      <th>BackScatter[/m/sr]</th>\n",
       "      <th>Bot. Depth[m]</th>\n",
       "      <th>CDOM[ppb]</th>\n",
       "      <th>Chlorophyll[µg/l]</th>\n",
       "      <th>Cruise</th>\n",
       "      <th>Density</th>\n",
       "      <th>Depth[m]</th>\n",
       "      <th>Lat [°N]</th>\n",
       "      <th>Lon [°E]</th>\n",
       "      <th>Nitrate[µM]</th>\n",
       "      <th>OxygenSat[%]</th>\n",
       "      <th>Oxygen[µM]</th>\n",
       "      <th>Salinity</th>\n",
       "      <th>Station</th>\n",
       "      <th>Temperature[°C]</th>\n",
       "      <th>Type</th>\n",
       "      <th>hh:mm</th>\n",
       "      <th>mon/day/yr</th>\n",
       "      <th>pH25C[Total]</th>\n",
       "      <th>pHinsitu[Total]</th>\n",
       "    </tr>\n",
       "  </thead>\n",
       "  <tbody>\n",
       "    <tr>\n",
       "      <th>140570</th>\n",
       "      <td>0.000106</td>\n",
       "      <td>NaN</td>\n",
       "      <td>2.96</td>\n",
       "      <td>0.04</td>\n",
       "      <td>0412Hawaii</td>\n",
       "      <td>27.639</td>\n",
       "      <td>1999.9</td>\n",
       "      <td>22.748</td>\n",
       "      <td>-157.99</td>\n",
       "      <td>NaN</td>\n",
       "      <td>31.21</td>\n",
       "      <td>105.8</td>\n",
       "      <td>34.608</td>\n",
       "      <td>1</td>\n",
       "      <td>2.2303</td>\n",
       "      <td>C</td>\n",
       "      <td>19:36</td>\n",
       "      <td>11/3/2014</td>\n",
       "      <td>7.4295</td>\n",
       "      <td>7.6608</td>\n",
       "    </tr>\n",
       "    <tr>\n",
       "      <th>140571</th>\n",
       "      <td>0.000106</td>\n",
       "      <td>NaN</td>\n",
       "      <td>2.97</td>\n",
       "      <td>0.04</td>\n",
       "      <td>0412Hawaii</td>\n",
       "      <td>27.633</td>\n",
       "      <td>1949.4</td>\n",
       "      <td>22.748</td>\n",
       "      <td>-157.99</td>\n",
       "      <td>NaN</td>\n",
       "      <td>27.02</td>\n",
       "      <td>91.5</td>\n",
       "      <td>34.605</td>\n",
       "      <td>1</td>\n",
       "      <td>2.2772</td>\n",
       "      <td>C</td>\n",
       "      <td>19:36</td>\n",
       "      <td>11/3/2014</td>\n",
       "      <td>7.4278</td>\n",
       "      <td>7.6601</td>\n",
       "    </tr>\n",
       "    <tr>\n",
       "      <th>140572</th>\n",
       "      <td>0.000106</td>\n",
       "      <td>NaN</td>\n",
       "      <td>2.96</td>\n",
       "      <td>0.04</td>\n",
       "      <td>0412Hawaii</td>\n",
       "      <td>27.624</td>\n",
       "      <td>1898.7</td>\n",
       "      <td>22.748</td>\n",
       "      <td>-157.99</td>\n",
       "      <td>NaN</td>\n",
       "      <td>26.16</td>\n",
       "      <td>88.5</td>\n",
       "      <td>34.598</td>\n",
       "      <td>1</td>\n",
       "      <td>2.3115</td>\n",
       "      <td>C</td>\n",
       "      <td>19:36</td>\n",
       "      <td>11/3/2014</td>\n",
       "      <td>7.4201</td>\n",
       "      <td>7.6530</td>\n",
       "    </tr>\n",
       "    <tr>\n",
       "      <th>140573</th>\n",
       "      <td>0.000103</td>\n",
       "      <td>NaN</td>\n",
       "      <td>3.00</td>\n",
       "      <td>0.05</td>\n",
       "      <td>0412Hawaii</td>\n",
       "      <td>27.611</td>\n",
       "      <td>1849.9</td>\n",
       "      <td>22.748</td>\n",
       "      <td>-157.99</td>\n",
       "      <td>NaN</td>\n",
       "      <td>24.98</td>\n",
       "      <td>84.3</td>\n",
       "      <td>34.592</td>\n",
       "      <td>1</td>\n",
       "      <td>2.4197</td>\n",
       "      <td>C</td>\n",
       "      <td>19:36</td>\n",
       "      <td>11/3/2014</td>\n",
       "      <td>7.4098</td>\n",
       "      <td>7.6419</td>\n",
       "    </tr>\n",
       "    <tr>\n",
       "      <th>140574</th>\n",
       "      <td>0.000106</td>\n",
       "      <td>NaN</td>\n",
       "      <td>3.01</td>\n",
       "      <td>0.04</td>\n",
       "      <td>0412Hawaii</td>\n",
       "      <td>27.604</td>\n",
       "      <td>1799.9</td>\n",
       "      <td>22.748</td>\n",
       "      <td>-157.99</td>\n",
       "      <td>NaN</td>\n",
       "      <td>24.18</td>\n",
       "      <td>81.5</td>\n",
       "      <td>34.589</td>\n",
       "      <td>1</td>\n",
       "      <td>2.4701</td>\n",
       "      <td>C</td>\n",
       "      <td>19:36</td>\n",
       "      <td>11/3/2014</td>\n",
       "      <td>7.4070</td>\n",
       "      <td>7.6399</td>\n",
       "    </tr>\n",
       "  </tbody>\n",
       "</table>\n",
       "</div>"
      ],
      "text/plain": [
       "        BackScatter[/m/sr]  Bot. Depth[m]  CDOM[ppb]  Chlorophyll[µg/l]  \\\n",
       "140570            0.000106            NaN       2.96               0.04   \n",
       "140571            0.000106            NaN       2.97               0.04   \n",
       "140572            0.000106            NaN       2.96               0.04   \n",
       "140573            0.000103            NaN       3.00               0.05   \n",
       "140574            0.000106            NaN       3.01               0.04   \n",
       "\n",
       "            Cruise  Density  Depth[m]  Lat [°N]  Lon [°E]  Nitrate[µM]  \\\n",
       "140570  0412Hawaii   27.639    1999.9    22.748   -157.99          NaN   \n",
       "140571  0412Hawaii   27.633    1949.4    22.748   -157.99          NaN   \n",
       "140572  0412Hawaii   27.624    1898.7    22.748   -157.99          NaN   \n",
       "140573  0412Hawaii   27.611    1849.9    22.748   -157.99          NaN   \n",
       "140574  0412Hawaii   27.604    1799.9    22.748   -157.99          NaN   \n",
       "\n",
       "        OxygenSat[%]  Oxygen[µM]  Salinity  Station  Temperature[°C] Type  \\\n",
       "140570         31.21       105.8    34.608        1           2.2303    C   \n",
       "140571         27.02        91.5    34.605        1           2.2772    C   \n",
       "140572         26.16        88.5    34.598        1           2.3115    C   \n",
       "140573         24.98        84.3    34.592        1           2.4197    C   \n",
       "140574         24.18        81.5    34.589        1           2.4701    C   \n",
       "\n",
       "        hh:mm mon/day/yr  pH25C[Total]  pHinsitu[Total]  \n",
       "140570  19:36  11/3/2014        7.4295           7.6608  \n",
       "140571  19:36  11/3/2014        7.4278           7.6601  \n",
       "140572  19:36  11/3/2014        7.4201           7.6530  \n",
       "140573  19:36  11/3/2014        7.4098           7.6419  \n",
       "140574  19:36  11/3/2014        7.4070           7.6399  "
      ]
     },
     "execution_count": 212,
     "metadata": {},
     "output_type": "execute_result"
    }
   ],
   "source": [
    "df[df['Cruise'] == '0412Hawaii'].head()"
   ]
  },
  {
   "cell_type": "markdown",
   "metadata": {},
   "source": [
    "Pandas extends matplotlib's plotting capacities nicely."
   ]
  },
  {
   "cell_type": "code",
   "execution_count": 84,
   "metadata": {
    "collapsed": true
   },
   "outputs": [],
   "source": [
    "import seaborn as sns\n",
    "%matplotlib inline"
   ]
  },
  {
   "cell_type": "code",
   "execution_count": 105,
   "metadata": {
    "collapsed": false
   },
   "outputs": [
    {
     "data": {
      "image/png": "[encoded data removed]",
      "text/plain": [
       "<matplotlib.figure.Figure at 0x11757e470>"
      ]
     },
     "metadata": {},
     "output_type": "display_data"
    }
   ],
   "source": [
    "df[df['Cruise'] == '0412Hawaii'].plot(\n",
    "    x= 'Salinity', y= 'Depth[m]', c= 'Oxygen[µM]',\n",
    "    kind= 'scatter', colormap='PuBu',\n",
    "    linewidth=0, alpha =.8, ylim=0,\n",
    "    title= '{} O2 Conc. as func(Depth, Sal)'.format('0412Hawaii')\n",
    ").invert_yaxis()"
   ]
  },
  {
   "cell_type": "code",
   "execution_count": 104,
   "metadata": {
    "collapsed": false
   },
   "outputs": [
    {
     "data": {
      "image/png": "[encoded data removed]",
      "text/plain": [
       "<matplotlib.figure.Figure at 0x116c0df60>"
      ]
     },
     "metadata": {},
     "output_type": "display_data"
    }
   ],
   "source": [
    "df[df['Cruise'] == '0508SoOcn'].plot(\n",
    "    x= 'Salinity', y= 'Depth[m]', c= 'Oxygen[µM]',\n",
    "    kind= 'scatter', colormap='PuBu',\n",
    "    linewidth=0, alpha =.8, ylim=0\n",
    ").invert_yaxis()"
   ]
  }
 ],
 "metadata": {
  "kernelspec": {
   "display_name": "Python 3",
   "language": "python",
   "name": "python3"
  },
  "language_info": {
   "codemirror_mode": {
    "name": "ipython",
    "version": 3
   },
   "file_extension": ".py",
   "mimetype": "text/x-python",
   "name": "python",
   "nbconvert_exporter": "python",
   "pygments_lexer": "ipython3",
   "version": "3.5.2"
  }
 },
 "nbformat": 4,
 "nbformat_minor": 0
}
